{
 "cells": [
  {
   "cell_type": "code",
   "execution_count": 2,
   "metadata": {},
   "outputs": [
    {
     "ename": "ImportError",
     "evalue": "cannot import name 'get_base_path' from '__init__' (/Users/kmazurczyk/Desktop/python/AirBnB-Price-Predictor/Downloads/airbnb_pricepredictor-main/Downloads/AirBnB-Price-Predictor-main/AirBnB-Price-Predictor/src/__init__.py)",
     "output_type": "error",
     "traceback": [
      "\u001b[0;31m---------------------------------------------------------------------------\u001b[0m",
      "\u001b[0;31mImportError\u001b[0m                               Traceback (most recent call last)",
      "Cell \u001b[0;32mIn[2], line 5\u001b[0m\n\u001b[1;32m      3\u001b[0m \u001b[38;5;28;01mimport\u001b[39;00m \u001b[38;5;21;01mrequests\u001b[39;00m\n\u001b[1;32m      4\u001b[0m \u001b[38;5;28;01mimport\u001b[39;00m \u001b[38;5;21;01msys\u001b[39;00m\n\u001b[0;32m----> 5\u001b[0m \u001b[38;5;28;01mfrom\u001b[39;00m \u001b[38;5;21;01m__init__\u001b[39;00m \u001b[38;5;28;01mimport\u001b[39;00m get_base_path\n\u001b[1;32m      6\u001b[0m \u001b[38;5;28;01mfrom\u001b[39;00m \u001b[38;5;21;01mdotenv\u001b[39;00m \u001b[38;5;28;01mimport\u001b[39;00m load_dotenv\n\u001b[1;32m      7\u001b[0m \u001b[38;5;28;01mfrom\u001b[39;00m \u001b[38;5;21;01mgoogle_api\u001b[39;00m \u001b[38;5;28;01mimport\u001b[39;00m geocode_lat_long\n",
      "\u001b[0;31mImportError\u001b[0m: cannot import name 'get_base_path' from '__init__' (/Users/kmazurczyk/Desktop/python/AirBnB-Price-Predictor/Downloads/airbnb_pricepredictor-main/Downloads/AirBnB-Price-Predictor-main/AirBnB-Price-Predictor/src/__init__.py)"
     ]
    }
   ],
   "source": [
    "import os\n",
    "import pandas as pd\n",
    "import requests\n",
    "import sys\n",
    "from __init__ import get_base_path\n",
    "from dotenv import load_dotenv\n",
    "from google_api import geocode_lat_long"
   ]
  }
 ],
 "metadata": {
  "kernelspec": {
   "display_name": "airbnbenv",
   "language": "python",
   "name": "python3"
  },
  "language_info": {
   "codemirror_mode": {
    "name": "ipython",
    "version": 3
   },
   "file_extension": ".py",
   "mimetype": "text/x-python",
   "name": "python",
   "nbconvert_exporter": "python",
   "pygments_lexer": "ipython3",
   "version": "3.9.6"
  }
 },
 "nbformat": 4,
 "nbformat_minor": 2
}
