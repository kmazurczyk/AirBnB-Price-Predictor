{
 "cells": [
  {
   "cell_type": "markdown",
   "metadata": {},
   "source": [
    "# Hw 1. Please complete the following activity and submit the notebook in LMS (learning management system). This homework is due by the end of week 3, to allow time for selecting your team and topic of the final project.\n"
   ]
  },
  {
   "cell_type": "markdown",
   "metadata": {},
   "source": [
    "# Q1(.5 point) Why we need Python virtual environments?\n",
    "\n",
    "Please write no more than 3 lines."
   ]
  },
  {
   "cell_type": "markdown",
   "metadata": {},
   "source": [
    "*write you response here*\n"
   ]
  },
  {
   "cell_type": "markdown",
   "metadata": {},
   "source": [
    "# Q2(.5 point) Sort the following list in place alphabetically using last three characters."
   ]
  },
  {
   "cell_type": "code",
   "execution_count": 1,
   "metadata": {},
   "outputs": [],
   "source": [
    "continentsL = ['Europe', 'Africa', 'America', 'Antarctica', 'Asia', 'Australia']\n",
    "# Write you code in the next line\n"
   ]
  },
  {
   "cell_type": "markdown",
   "metadata": {},
   "source": [
    "# Q3(1= .5+.5 points) We want to compare random integer generation time in numpy and random module of \"plain\" python. Generate 100 random integers in the range 1 to 10 including 1 and 10. Write jupyter notebook line magic to compare execution time of random integer generation in the following cells (look for the cells having the comment *write line magic*).  Line magic must execute the given statement  10 times in a loop and repeat the process 5 times.\n",
    "\n",
    " \n",
    " Hints:\n",
    "\n",
    " - Note that numpy.random has randint function and random has random.randint function.\n",
    " - Press shift+tab after typing above function or search their documentation to understand their parameters.\n",
    " - use ? on magic command timeit for further documentation. see how to use **-n and -r options**.\n",
    " "
   ]
  },
  {
   "cell_type": "code",
   "execution_count": 2,
   "metadata": {},
   "outputs": [],
   "source": [
    "import random\n",
    "num_sample = 100\n",
    "low = 1\n",
    "high = 10"
   ]
  },
  {
   "cell_type": "code",
   "execution_count": 3,
   "metadata": {},
   "outputs": [],
   "source": [
    "# write line magic for random module in the next line\n"
   ]
  },
  {
   "cell_type": "code",
   "execution_count": 4,
   "metadata": {},
   "outputs": [],
   "source": [
    "import numpy as np"
   ]
  },
  {
   "cell_type": "code",
   "execution_count": 5,
   "metadata": {},
   "outputs": [],
   "source": [
    "# write line magic for numpy randint in the next line\n"
   ]
  },
  {
   "cell_type": "markdown",
   "metadata": {},
   "source": [
    "<font size = \"6\"> To start working toward final project, complete the following questions by writing markdown in the same cell in next line. Each question in worth .5 point. </font>\n",
    "\n",
    "In tools 1 course, __*we are concerned with data cleaning, feature engineering and exploratory analysis. Make sure your selected final project allows for lots of data cleaning, transformation and engineering opportunity.*__ \n",
    "\n",
    "Go over project and presentation rubric in course webpage to better understand the requirement for the project.  We will evaluate the answer to see if it meets the final project requirements.\n",
    "\n",
    "\n",
    "\n",
    "<font color = \"red\" size = \"5\">If you are working in a team, we'll read only one team member notebook for the following questions. Please make sure you have identical answers for following questions.  </font>\n",
    "\n",
    "<font color =\"red\"> To edit a markdown cell you need to double click in the cell</font>"
   ]
  },
  {
   "cell_type": "markdown",
   "metadata": {},
   "source": [
    "# Q4 List your team members in bullet format. (No more than 3 members).\n",
    "Note that\n",
    "\n",
    "- **Each member** has to present a portion of the project in the final presentation.\n",
    "\n",
    "-  Final report must list the contribution of each member. \n"
   ]
  },
  {
   "cell_type": "markdown",
   "metadata": {},
   "source": [
    "* Kori Thompson\n",
    "* Dawnena Key\n",
    "* Kai Mazurczyk"
   ]
  },
  {
   "cell_type": "markdown",
   "metadata": {},
   "source": [
    "# Q5  What  problem you are trying to solve?"
   ]
  },
  {
   "cell_type": "markdown",
   "metadata": {},
   "source": [
    "We seek to understand the key factors that influence Airbnb listing prices, and how hosts can optimize their pricing strategy to maximize occupancy and revenue. \n",
    "\n",
    "We seek to create a price recommendation/predictor that accepts an address and date range that returns suggested pricing based on factors such as pricing/bookings of nearby Airbnbs, the address' property valuation and physical qualities, as well as proximity to local areas of interest and transit.\n",
    "\n",
    "We will examine New York City data for this task.\n"
   ]
  },
  {
   "cell_type": "markdown",
   "metadata": {},
   "source": [
    "# Q6 Describe the attributes of examples in the dataset. If you are planning to collect the data (webscrapping, web API etc.), list the timeline to finish the data collection."
   ]
  },
  {
   "cell_type": "markdown",
   "metadata": {},
   "source": [
    "### AirBNB data\n",
    "\n",
    "**InsideAirBNB**\n",
    "\n",
    "Our main data set are Airbnb listings in New York City. Inside Airbnb provides 12 months of scraped data for many US cities with CSV files for listings, calendars and user reviews.\n",
    "\n",
    "Inside Airbnb provides our main measure/predictor: Airbnb listing price. It also includes other variables of interest, which we'll use as inputs:\n",
    "\n",
    "* Listing price\n",
    "* Cleaning fees\n",
    "* Deposit\n",
    "* Other fees and charges\n",
    "* Neighborhood/Location\n",
    "* Type of Listing\n",
    "* Number of Bedrooms\n",
    "* Minimum Nights\n",
    "* Num of Reviews\n",
    "* Review Score Rating\n",
    "* Amenities\n",
    "* Host ID (owner)\n",
    "\n",
    "For additional context, we also sourced data for: \n",
    "* Property attributes and valuation\n",
    "* Presence and proximity to nearby transportation\n",
    "* Presence and proximity to popular landmarks\n",
    "\n",
    "*https://insideairbnb.com* (CSV)\n",
    "\n",
    "#### Attribute Descriptions\n",
    "\n",
    "We are focusing on attributes that directly impact the listing price, as well as features that help us contextualize and normalize the data for deeper insights.\n",
    "\n",
    "Main Dataset (Inside Airbnb Listings Data):\n",
    "Listing Price: The nightly price charged by the host.\n",
    "Target variable for our model.\n",
    "\n",
    "Cleaning Fees: Additional charges for cleaning after a guest's stay.\n",
    "Can influence guest booking decisions and total cost.\n",
    "\n",
    "Deposit: The security deposit required by the host.\n",
    "Higher deposits may affect guest willingness to book.\n",
    "\n",
    "Other Fees and Charges: Any extra charges beyond nightly rate and cleaning fee.\n",
    "May impact the overall perceived value of the listing.\n",
    "\n",
    "Neighborhood/Location: The neighborhood where the listing is located, with associated latitude and longitude.\n",
    "Key for identifying high-demand areas and proximity to attractions or city center.\n",
    "\n",
    "Type of Listing: Whether the listing is an entire home, private room, or shared room.\n",
    "Significantly impacts pricing and target guests.\n",
    "\n",
    "Number of Bedrooms: Total number of bedrooms available.\n",
    "Larger listings generally charge higher rates, especially for families or groups.\n",
    "\n",
    "Minimum Nights: The minimum number of nights required for a booking.\n",
    "Can influence guest booking patterns, particularly for short stays.\n",
    "\n",
    "Number of Reviews: Total number of reviews received by the listing.\n",
    "Serves as an indicator of listing popularity and trustworthiness.\n",
    "\n",
    "Review Score Rating: Average guest rating (1–5 stars).\n",
    "Affects guest perception and listing demand.\n",
    "\n",
    "Amenities: A list of available amenities such as WiFi, pool, parking, etc.\n",
    "Important for determining listing value and guest preferences.\n",
    "\n",
    "Host ID: The unique identifier of the listing's host.\n",
    "Allows us to track listings by the same host, which may impact pricing strategies.\n",
    "\n",
    "Geospatial Features: We plan to derive distance metrics (e.g., distance from city center, tourist attractions) from the latitude and longitude attributes. These can be used to normalize price data based on proximity to high-demand locations.\n",
    "\n",
    "Amenity Features: Binary features will be created for key amenities (e.g., WiFi, pool, air conditioning) to assess their impact on price."
   ]
  },
  {
   "cell_type": "markdown",
   "metadata": {},
   "source": [
    "### Property Valuation Data\n",
    "\n",
    "**NYC OpenData**\n",
    "\n",
    "We expect the physical location and properties of residence to be a key driver of Airbnb pricing.\n",
    "\n",
    "County assessors maintain property records to value and tax real estate holdings. NYCOpenData publishes recent property valuations as well as key property features informing the valuation. From these records, we may collect features including\n",
    "\n",
    "* valuation year\n",
    "* address\n",
    "* lot size\n",
    "* year building built\n",
    "* building stories\n",
    "* gross sq footage\n",
    "* zoning code\n",
    "* building class code\n",
    "* current market total value\n",
    "\n",
    "*https://data.cityofnewyork.us/City-Government/Property-Valuation-and-Assessment-Data-Tax-Classes/8y4t-faws/about_data (CSV or API)*\n",
    "\n",
    "### Rental Rates\n",
    "\n",
    "**Zillow**\n",
    "\n",
    "While we expect physical attributes of a property to correlate with AirBNB pricing - in NYC, many properties are unitized and renting instead of owning a property is prevalent. For rental data, Zillow Observed Rent Index provides **weighted mean rent** by zip code.\n",
    "\n",
    "*https://www.zillow.com/research/data/ (CSV)*"
   ]
  },
  {
   "cell_type": "markdown",
   "metadata": {},
   "source": [
    "### Transportation Data\n",
    "\n",
    "**NYCOpenData** \n",
    "\n",
    "MTA subways and bus routes are essential arteries of NYC. We expect convenient proximity to one of these stops to be a value-add for any NYC visitor. \n",
    "\n",
    "NYCOpenData publishes **subway locations by latitude and longitude**. We will estimate the number of subway stops near an Airbnb location as well as their nearest distances. Further discussion on engineering this feature follows in Q7.\n",
    "\n",
    "*https://data.ny.gov/Transportation/MTA-Subway-Stations/39hk-dx4f/about_data (CSV or API)*"
   ]
  },
  {
   "cell_type": "markdown",
   "metadata": {},
   "source": [
    "### Google Map API & Location Data\n",
    "\n",
    "**Google Places - Nearby Search API**\n",
    "\n",
    "In addition to proximity to key transit, we expect the number and proximity of key landmarks and conveniences to inform the pricing of an AirBnB.\n",
    "\n",
    "Google Places API provides a way to collect key landmarks near an AirBNB location. By providing lat/long coordinates, a distance radius and place types of interest, Google returns:\n",
    "\n",
    "* place name\n",
    "* place address\n",
    "* place type (eg 'restaurant')\n",
    "\n",
    "After establishing a few categories of interest (restaurants, tourist attractions, business centers, etc) we will count the number of these locations in a standard radius, and measure their distances to an address to establish a value.\n",
    "\n",
    "*https://developers.google.com/maps/documentation/places/web-service/nearby-search (API/JSON)*\n",
    "\n",
    "**Google Geocoding API**\n",
    "\n",
    "Several of our datasets use different reference points for location - \n",
    "* InsideAirBNB - lat/long coordinates\n",
    "* Assessor property valuation data - street address\n",
    "* Zillow - zipcode only\n",
    "* MTA - lat/long coordinates\n",
    "* Google Places - address & lat/long\n",
    "\n",
    "A necessary step in our data preparation will be standardizing location reference data so we can map values across datasets. Google Geocoding API is an essential cross-reference, translating latitude/longitude coordinates to nearest street address and zip code.\n",
    "\n",
    "*https://developers.google.com/maps/documentation/geocoding/overview (API/JSON)*\n",
    "\n",
    "**Google Distance Matrix API**\n",
    "For distances between the Airbnb and points of interest, we are considering PyGeodesic library or the Google Distance Matrix API. The Distance Matrix API accepts two addresses and returns distance and duration of travel, taking into account available routes into account actual routes instead of linear distance between points.\n",
    "\n",
    "*https://developers.google.com/maps/documentation/distance-matrix/overview (API/JSON)*"
   ]
  },
  {
   "cell_type": "markdown",
   "metadata": {},
   "source": [
    "### Data Collection Plan\n",
    "\n",
    "Week 1–2: Download data from Inside Airbnb and clean for analysis. This includes dropping irrelevant columns, handling missing values, and preprocessing categorical features.\n",
    "\n",
    "Week 3: Collect property valuation, transportation and location data to enrich the dataset from the sources above.\n",
    "\n",
    "Week 4: Perform feature engineering, including geospatial calculations and price normalization based on proximity and amenities."
   ]
  },
  {
   "cell_type": "markdown",
   "metadata": {},
   "source": [
    "# Q7 Give example of records (sample points). Explain why this is a noisy data set (highlight  portion of record attributes you think are noisy)."
   ]
  },
  {
   "cell_type": "markdown",
   "metadata": {},
   "source": [
    "### Inside Airbnb listing data:\n",
    "\n",
    "*Problem fields highlighted in red*\n",
    "\n",
    "<code>id,listing_url,scrape_id,last_scraped,source,name,description,neighborhood_overview,picture_url,host_id,host_url,host_name,host_since,host_location,host_about,host_response_time,host_response_rate,host_acceptance_rate,host_is_superhost,host_thumbnail_url,host_picture_url,host_neighbourhood,host_listings_count,host_total_listings_count,host_verifications,host_has_profile_pic,host_identity_verified,neighbourhood,neighbourhood_cleansed,neighbourhood_group_cleansed,latitude,longitude,property_type,room_type,accommodates,bathrooms,bathrooms_text,bedrooms,beds,amenities,price,minimum_nights,maximum_nights,minimum_minimum_nights,maximum_minimum_nights,minimum_maximum_nights,maximum_maximum_nights,minimum_nights_avg_ntm,maximum_nights_avg_ntm,calendar_updated,has_availability,availability_30,availability_60,availability_90,availability_365,calendar_last_scraped,number_of_reviews,number_of_reviews_ltm,number_of_reviews_l30d,first_review,last_review,review_scores_rating,review_scores_accuracy,review_scores_cleanliness,review_scores_checkin,review_scores_communication,review_scores_location,review_scores_value,license,instant_bookable,calculated_host_listings_count,calculated_host_listings_count_entire_homes,calculated_host_listings_count_private_rooms,calculated_host_listings_count_shared_rooms,reviews_per_month<br/><br/>\n",
    "9630344,https://www.airbnb.com/rooms/9630344,20231001204715,2023-10-02,city scrape,Rental unit in Brooklyn  · ★4.80 · 1 bedroom · 1 bed · 1 shared bath,\"Enjoy your own private bedroom in our 2 bedroom luxury apartment. This immaculate apartment is loaded with everything you need to feel at home including washer/ dryer, central air, recessed lighting and spa- like shower. Located just 25 mins away from Union sq.<br /><br /><b>The space</b><br />Beautiful white tile floors, comfy relaxed atmosphere. With adjustable high-end  air bed.<br /><br /><b>Guest access</b><br />Guests have access to the entire apartment. This includes kitchen and living area and roof.<br /><br /><b>During your stay</b><br />I will be home daily and have no problem interacting if you need me to. I'm always available if you need anything.\",Easy access to subway. Trendy and yet quiet.,https://a0.muscache.com/pictures/496cf3f1-7d0d-4c78-a653-c17dc74a49f9.jpg,47783628,https://www.airbnb.com/users/show/47783628,Tiffannie,2015-10-30,\"New York, NY\",\"\",N/A,N/A,N/A,f,https://a0.muscache.com/im/pictures/user/5c087186-a1cc-4619-87e5-b07b52103ac6.jpg?aki_policy=profile_small,https://a0.muscache.com/im/pictures/user/5c087186-a1cc-4619-87e5-b07b52103ac6.jpg?aki_policy=profile_x_medium,,1,2,\"['email', 'phone']\",t,f,\"Brooklyn , New York, United States\",Bushwick,Brooklyn,40.68457,-73.91181,Private room in rental unit,Private room,1,,1 shared bath,,1,\"[\"\"Body soap\"\", \"\"Dryer\"\", \"\"Refrigerator\"\", \"\"Wifi\"\", \"\"Dishes and silverware\"\", \"\"Patio or balcony\"\", \"\"Hair dryer\"\", \"\"Hangers\"\", \"\"Bathtub\"\", \"\"Heating\"\", \"\"Dedicated workspace\"\", \"\"Smoke alarm\"\", \"\"Washer\"\", \"\"Essentials\"\", \"\"TV\"\", \"\"Coffee maker\"\", \"\"Carbon monoxide alarm\"\", \"\"Hot water\"\", \"\"Backyard\"\", \"\"Kitchen\"\", \"\"Shampoo\"\", \"\"Air conditioning\"\", \"\"Iron\"\"]\",$65.00,30,30,30,30,30,30,30.0,30.0,,t,29,59,89,364,2023-10-02,5,0,0,2016-08-14,2018-04-30,4.8,4.6,5.0,5.0,5.0,4.8,5.0,,f,1,0,1,0,0.06<br/><br/>\n",
    "id,name,host_id,host_name,neighbourhood_group,neighbourhood,latitude,longitude,room_type,price,minimum_nights,number_of_reviews,last_review,reviews_per_month,calculated_host_listings_count,availability_365,number_of_reviews_ltm,license<br/><br/>\n",
    "9735931,Private room in spacious apartment,6501582,Gaia,Brooklyn,Crown Heights,40.67656,-73.93325,Private room,,30,9,2020-01-06,0.09,1,0,0,\n",
    "</code>\n",
    "\n",
    "\n",
    "\n",
    "\n",
    "*Data Quality*\n",
    "\n",
    "Inside Airbnb listing data has missing values in the description, neighborhood_overview, host_location,host_about,host_response_time,host_response_rate,host_acceptance_rate,host_is_superhost,host_neighbourhood,neighbourhood,bathrooms, bedrooms, beds, first_review,last_review, review_scores_rating, review_scores_accuracy, review_scores_cleanliness, review_scores_checkin, review_scores_communication, review_scores_location, review_scores_value, license, price, last_review, reviews_per_month, and license columns. We can examine for imputation. There are also a number of columns that may not be useful for our analysis such as the host location or the description of the host which can be dropped from the analysis.\n",
    "\n",
    "\n",
    "\n",
    "### Inside Airbnb calendar data:\n",
    "\n",
    "<code>\n",
    "360,2025-06-28,f,$140.00,,30,182\n",
    "360,2025-06-29,f,$140.00,,30,182\n",
    "364,2024-06-30,f,$179.00,,185,365\n",
    "</code>\n",
    "\n",
    "*Data Quality*\n",
    "\n",
    "The adjusted_price column is null for all records and can be dropped from the dataset as it adds no value.\n",
    "\n",
    "\n",
    "\n",
    "### Inside Airbnb review data:\n",
    "\n",
    "<code>\n",
    "listing_id,date\n",
    "360,8/13/2018\n",
    "360,8/21/2018\n",
    "360,8/23/2018\n",
    "</code>\n",
    "\n",
    "Below find reference code for cleaning the Inside AirBNB data."
   ]
  },
  {
   "cell_type": "code",
   "execution_count": 6,
   "metadata": {},
   "outputs": [
    {
     "ename": "SyntaxError",
     "evalue": "invalid syntax (1628061297.py, line 13)",
     "output_type": "error",
     "traceback": [
      "\u001b[0;36m  Cell \u001b[0;32mIn[6], line 13\u001b[0;36m\u001b[0m\n\u001b[0;31m    sample output:\u001b[0m\n\u001b[0m           ^\u001b[0m\n\u001b[0;31mSyntaxError\u001b[0m\u001b[0;31m:\u001b[0m invalid syntax\n"
     ]
    }
   ],
   "source": [
    "\n",
    "# sample dataset \n",
    "\n",
    "import pandas as pd\n",
    "\n",
    "listings_df = pd.read_csv('path_to_listings.csv')\n",
    "\n",
    "print(listings_df.head())\n",
    "\n",
    "#checking missing values\n",
    "missing_values = listing_df.isnull().sum()\n",
    "print(missing_values)\n",
    "\n",
    "sample output:\n",
    "id                           0\n",
    "name                         2\n",
    "host_id                      0\n",
    "neighbourhood_group          0  \n",
    "neighbourhood                0\n",
    "latitude                     0\n",
    "longitude                    0\n",
    "room_type                    0\n",
    "price                        5  # Some listings have missing prices\n",
    "minimum_nights               0\n",
    "number_of_reviews            0\n",
    "review_scores_rating        50  # Missing ratings\n",
    "amenities                    0\n",
    "dtype: int64\n",
    "\n",
    "\n",
    "# python code to clean noisy data: \n",
    "# Drop irrelevant columns (e.g., 'neighbourhood_group' is entirely null)\n",
    "listings_df.drop(columns=['neighbourhood_group'], inplace=True)\n",
    "\n",
    "# Impute missing values in the 'price' column with the median price\n",
    "listings_df['price'].fillna(listings_df['price'].median(), inplace=True)\n",
    "\n",
    "# Impute missing values in 'review_scores_rating' with the median rating\n",
    "listings_df['review_scores_rating'].fillna(listings_df['review_scores_rating'].median(), inplace=True)\n",
    "\n",
    "# Recheck for missing values\n",
    "print(listings_df.isnull().sum())\n",
    "\n",
    "inconsistent price format:\n",
    "# Remove currency symbols and commas from the 'price' column\n",
    "listings_df['price'] = listings_df['price'].replace({'\\$': '', ',': ''}, regex=True).astype(float)\n",
    "\n",
    "# Verify the changes\n",
    "print(listings_df[['id', 'price']].head())\n",
    "\n",
    "\n",
    "# clean and extract amenities:\n",
    "# Example of extracting key amenities (WiFi, Kitchen, etc.) as binary features\n",
    "listings_df['has_wifi'] = listings_df['amenities'].apply(lambda x: 1 if 'WiFi' in x else 0)\n",
    "listings_df['has_kitchen'] = listings_df['amenities'].apply(lambda x: 1 if 'Kitchen' in x else 0)\n",
    "\n",
    "# View the new binary columns\n",
    "print(listings_df[['id', 'has_wifi', 'has_kitchen']].head())\n",
    "\n",
    "#(can be modified)"
   ]
  },
  {
   "cell_type": "markdown",
   "metadata": {},
   "source": [
    "### Property Valuation data\n",
    "\n",
    "Example data with https://data.cityofnewyork.us/resource/8y4t-faws.json?zoning=R3-2\n",
    "Red = data quality concern\n",
    "\n",
    "Fields of interest\n",
    "* valuation year (year)\n",
    "* address (housenum_lo, housenum_hi, street_name, zip_code)\n",
    "* lot size (land_area)\n",
    "* year building built (yrbuilt)\n",
    "* building stories (bld_story)\n",
    "* gross sq footage (gross_sqft)\n",
    "* zoning code (zoning)\n",
    "* building class code (bldg_class)\n",
    "* current market total value (curmkttot)\n",
    "\n",
    "<code>\n",
    "[{\"parid\":\"1000010010\",\"boro\":\"1\",\"block\":\"1\",\"lot\":\"10\",\"rectype\":\"1\",\"year\":\"2024\",\"secvol\":\"101\",\"pymktland\":\"232101000\",\"pymkttot\":\"327275000\",\"pyactland\":\"104445450\",\"pyacttot\":\"147273750\",\n",
    "\"pyactextot\":\"147273750\",\"pytrnland\":\"104445450\",\"pytrntot\":\"158823642\",\"pytrnextot\":\"158823642\",\"pytxbtot\":\"147273750\",\"pytxbextot\":\"147273750\",\"pytaxclass\":\"4\",\"tenmktland\":\"229779990\",\"tenmkttot\":\"337093000\",\n",
    "\"tenactland\":\"103400996\",\"tenacttot\":\"151691851\",\"tenactextot\":\"151691851\",\"tentrnland\":\"103400996\",\"tentrntot\":\"154842141\",\"tentrnextot\":\"154842141\",\"tentxbtot\":\"151691851\",\"tentxbextot\":\"151691851\"\n",
    "\"tentaxclass\":\"4\",\"cbnmktland\":\"229779990\",\"cbnmkttot\":\"337093000\",\"cbnactland\":\"103400996\",\"cbnacttot\":\"151691851\",\"cbnactextot\":\"151691851\",\"cbntrnland\":\"103400996\",\"cbntrntot\":\"154842141\",\n",
    "\"cbntrnextot\":\"154842141\",\"cbntxbtot\":\"151691851\",\"cbntxbextot\":\"151691851\",\"cbntaxclass\":\"4\",\"finmktland\":\"229779990\",\"finmkttot\":\"337093000\",\"finactland\":\"103400996\",\"finacttot\":\"151691851\",\n",
    "\"finactextot\":\"151691851\",\"fintrnland\":\"103400996\",\"fintrntot\":\"154842141\",\"fintrnextot\":\"154842141\",\"fintxbtot\":\"151691851\",\"fintxbextot\":\"151691851\",\"fintaxclass\":\"4\",\"curmktland\":\"229779990\",\n",
    "\"curmkttot\":\"337093000\",\"curactland\":\"103400996\",\"curacttot\":\"151691851\",\"curactextot\":\"151691851\",\"curtrnland\":\"103400996\",\"curtrntot\":\"154842141\",\"curtrnextot\":\"154842141\",\"curtxbtot\":\"151691851\",\n",
    "\"curtxbextot\":\"151691851\",\"curtaxclass\":\"4\",\"period\":\"3\",\"newdrop\":\"0\",\"noav\":\"0\",<font color=red>\"bldg_class\":\"Y4\"</font>,\"owner\":\"GOVERNORS ISLAND CORPORATION\",<font color=red>\"zoning\":\"R3-2\",\n",
    "</font>\"street_name\":\"ANDES ROAD\",\"zip_code\":\"10004\",\"gepsupport_rc\":\"00\",\"stcode\":\"14560301010\",\"lot_frt\":\"0.00\",\"lot_dep\":\"0.00\",\"bld_frt\":\"0.00\",\"bld_dep\":\"0.00\",\"bld_ext\":\"N\",\"bld_story\":\"3.50\",\n",
    "\"land_area\":\"7665016\",<font color='red'>\"num_bldgs\":\"86\",\"yrbuilt\":\"1900\"</font>,\"yrbuilt_range\":\"0\",\"yralt1\":\"0\",\"yralt1_range\":\"0\",\"yralt2\":\"0\",\"yralt2_range\":\"0\",\"coop_apts\":\"0\",\n",
    "<font color='red'>\"units\":\"1\"</font>,\"coop_num\":\"0\",\"cpb_boro\":\"1\",\"cpb_dist\":\"1\",\"appt_date\":\"2022-09-01T00:00:00.000\",\"appt_boro\":\"1\",\"appt_block\":\"1\",\"appt_lot\":\"10\",\"uaf_land\":\"0.0000000\",\n",
    "\"uaf_bldg\":\"0.0000000\",\"protest_old\":\"1\",\"attorney_group_old\":\"135\",\"gross_sqft\":\"2542066\",\"hotel_area_gross\":\"0\",\"office_area_gross\":\"0\",\"residential_area_gross\":\"0\",\"retail_area_gross\":\"0\",\"loft_area_gross\":\"0\",\n",
    "\"factory_area_gross\":\"0\",\"warehouse_area_gross\":\"0\",\"storage_area_gross\":\"0\",\"garage_area\":\"0\",\"other_area_gross\":\"0\",\"extracrdt\":\"2023-05-17T00:00:00.000\",\"pytaxflag\":\"A\",\"tentaxflag\":\"A\",\"cbntaxflag\":\"A\",\n",
    "\"fintaxflag\":\"A\",\"curtaxflag\":\"A\"}\n",
    ",\n",
    "</code>\n",
    "\n",
    "*Data Quality*\n",
    "\n",
    "**Converting Civic Encodings to Categorical Variables**\n",
    "\n",
    "Valuable attributes of a property are somewhat hidden by civic encoding. As example, Zoning Codes and Building Class Codes are provided that will help us isolate residential property classifications, and determine if the residence is an apartment, condo, townhouse or single-family home.\n",
    "\n",
    "These encodings can be converted to meaningful factors. As example for zoning codes,\n",
    "R1, R2, R3 - single family homes\n",
    "R4, R5 - town homes\n",
    "R6, R7 - mid apartment and condos\n",
    "R8, R9, R10 - high density apartments\n",
    "\n",
    "Zoning Code Reference https://www.nyc.gov/site/planning/zoning/districts-tools/residence-districts-r1-r10.page\n",
    "Building Code Reference https://www.nyc.gov/assets/finance/jump/hlpbldgcode.html \n",
    "\n",
    "**Null Values**\n",
    "\n",
    "In the API, if a value is null the field is simply not passed. As example, the record above doesn't have house numbers (housenum_lo, housenum_hi) because the record is for all of Governor's Island National Monument! \n",
    "\n",
    "Some attributes we are interested in like the year a building was built are prevalently populated with 0, presumably because the property is still being developed or the date is unknown. We expect this to be a relatively minor variable to infer the buildings age. During exploratory analysis we can determine if this variable is correlated enough to retain/cleanse or drop.\n",
    "\n",
    "**Address Mapping**\n",
    "\n",
    "We will be converting AirBNB lat/long coordinates to a street address using Google API.\n",
    "However, this conversion will essentially be an estimate, and many properties have one assessment for a range of addresses (HOUSENUM_LO, HOUSENUM_HI). Others, like the record above, lack house numbers altogether. \n",
    "\n",
    "Essentially, addresses will have to be paired via range join. Depending on the accuracy and completeness of these lookups, we may have to look at other approaches to fuzzy match addresses in order to map the datasets.\n",
    "\n",
    "**Standardization**\n",
    "\n",
    "Further, valuations are mixed across multi tenant properties and individual condos. This data should be scaled for meaningful comparison. COOP_APTS (number of apartments), APTNO (apartment number for condos), and UNITS variables can help decode the assessment and determine if price scaling should be applied.\n",
    "\n",
    "These fields will be useful but imperfect - above, Governor's Island National Monument is zoned as R3-2 (single family homes), 1 unit and 86 buildings. These attributes make sense together because this is a government owned military base - an odd exception for NYC - but little about the data helped infer this exception. We may have to rely on Google place data to fill these gaps."
   ]
  },
  {
   "cell_type": "markdown",
   "metadata": {},
   "source": [
    "### Standardized location data\n",
    "As mentioned in Q6, location data across all our datasets are not standardized. We expect to use Google's Geocoding API to generate a complete reference set of lat/long coordinates and addresses for various tasks.\n",
    "\n",
    "* Convert InsideAirBNB latitudes/longitudes into street addresses to look up property valuations.\n",
    "* Convert Google landmark addresses to latitudes/longitudes to measure distances\n",
    "* Extract Zipcodes from Street Addresses to map to Zillow mean rental rates."
   ]
  },
  {
   "cell_type": "markdown",
   "metadata": {},
   "source": [
    "# Q8 What kind of  feature engineering opportunity you see.\n",
    "\n",
    "We'll cover feature engineering but here are some examples to get an idea of feature engineering.\n",
    "- Do you need to extract a number, year, or a word in column (attribute of a record).\n",
    "    + Perhaps extracting Miss, Mr., Dr. is more important than actual name?\n",
    "    + Maybe year or time is embbedded in the text desciption and it is important for analysis. \n",
    "- If a column has numerical values do you see a potential for using these values or a transformation of these values like square, log etc?\n",
    "\n",
    "Some options for feature engineering in with the Inside Airbnb data is to create a number of total reviews for each property. We could also create features for the ratio of days that a listing was occupied out of it total avaiable days. "
   ]
  },
  {
   "cell_type": "markdown",
   "metadata": {},
   "source": [
    "\n",
    "### Distances & Densities of Key Landmarks\n",
    "\n",
    "As mentioned in Q6, we plan to count the number of/distances of subway stops and key landmarks in a given radius of an AirBNB address. The purpose of this is to help influence listing prices and occupancy - Listings closer to tourists hotspots bring high demand. \n",
    "\n",
    "However, including each and every relationships in the model would be overwhelming and would not be meaningful to the overall result. What we actually care about is the overall density and proximity of these places to the AirBNB. \n",
    "\n",
    "Generating these measures will require the following steps:\n",
    "\n",
    "1. choose a meaningful radius to identify points in proximity to airbnb (eg walking distance/<1 mi>)\n",
    "2. count points within that perimeter\n",
    "3. calculating distances for each point\n",
    "4. calculating mean/median distance of all points\n",
    "\n",
    "This will give us new variables such as,\n",
    "\n",
    "total_landmarks_1mi_rad\n",
    "total_subway_stops_1mi_rad\n",
    "mean_landmark_distance_mi\n",
    "mean_subway_stop_distance_mi\n",
    "\n",
    "That being said, certain places may be higher value than others. As example, a NYC traveler may care about distance to the Empire State Building more than a random coffee shop, even if the coffee shop is closer. We can validate this during exploratory analysis and refining our feature selections - it may make sense for certain landmarks to have their own weights."
   ]
  },
  {
   "cell_type": "code",
   "execution_count": null,
   "metadata": {},
   "outputs": [],
   "source": [
    "# Example code using latitude and longitude of listings to calculate their distance, using geodesic\n",
    "\n",
    "from geopy.distance import geodesic\n",
    "\n",
    "# Coordinates of Times Square (example landmark)\n",
    "times_square = (40.7580, -73.9855)\n",
    "\n",
    "# Function to calculate the distance from Times Square\n",
    "def calculate_distance(lat, lon):\n",
    "    return geodesic((lat, lon), times_square).km\n",
    "\n",
    "listings_df['distance_to_times_square'] = listings_df.apply(lambda row: calculate_distance(row['latitude'], row['longitude']), axis=1)\n"
   ]
  },
  {
   "cell_type": "markdown",
   "metadata": {},
   "source": [
    "### Amenities into binary features\n",
    "In general, categorical variables will have to be one-hot encoded before regression. As example, InsideAirBNB provides a list of property amenities (wifi, garage, kitchen, ac, etc). During exploratory analysis, we will have to extract the most important categories and encode for the broader model."
   ]
  },
  {
   "cell_type": "code",
   "execution_count": null,
   "metadata": {},
   "outputs": [],
   "source": [
    "\n",
    "# Example: Extracting WiFi, Kitchen, and Air Conditioning as binary features\n",
    "listings_df['has_wifi'] = listings_df['amenities'].apply(lambda x: 1 if 'WiFi' in x else 0)\n",
    "listings_df['has_kitchen'] = listings_df['amenities'].apply(lambda x: 1 if 'Kitchen' in x else 0)\n",
    "listings_df['has_ac'] = listings_df['amenities'].apply(lambda x: 1 if 'Air conditioning' in x else 0)"
   ]
  },
  {
   "cell_type": "markdown",
   "metadata": {},
   "source": [
    "### Price Normalization\n",
    "\n",
    "AirBNB pricing may vary widely depending on if the rental agreement is for a room, condo, house, etc. Normalizing pricing by bedroom/guest will help smooth comparison across properties.\n",
    "\n",
    "Similarly, as mentioned in Q7 NYC's property valuations should scaled for the same reason.\n",
    "\n",
    "Below is a possible approach."
   ]
  },
  {
   "cell_type": "code",
   "execution_count": null,
   "metadata": {},
   "outputs": [],
   "source": [
    "# example code for price normalization - price per bedroom/guests. reveals over/underpricing \n",
    "\n",
    "# Assuming 'bedrooms' and 'accommodates' columns are available\n",
    "listings_df['price_per_bedroom'] = listings_df['price'] / listings_df['bedrooms']\n",
    "listings_df['price_per_guest'] = listings_df['price'] / listings_df['accommodates']"
   ]
  }
 ],
 "metadata": {
  "kernelspec": {
   "display_name": "dst1_env",
   "language": "python",
   "name": "dst1_env"
  },
  "language_info": {
   "codemirror_mode": {
    "name": "ipython",
    "version": 3
   },
   "file_extension": ".py",
   "mimetype": "text/x-python",
   "name": "python",
   "nbconvert_exporter": "python",
   "pygments_lexer": "ipython3",
   "version": "3.12.1"
  },
  "toc": {
   "base_numbering": 1,
   "nav_menu": {},
   "number_sections": false,
   "sideBar": true,
   "skip_h1_title": false,
   "title_cell": "Table of Contents",
   "title_sidebar": "Contents",
   "toc_cell": false,
   "toc_position": {},
   "toc_section_display": true,
   "toc_window_display": false
  },
  "varInspector": {
   "cols": {
    "lenName": 16,
    "lenType": 16,
    "lenVar": 40
   },
   "kernels_config": {
    "python": {
     "delete_cmd_postfix": "",
     "delete_cmd_prefix": "del ",
     "library": "var_list.py",
     "varRefreshCmd": "print(var_dic_list())"
    },
    "r": {
     "delete_cmd_postfix": ") ",
     "delete_cmd_prefix": "rm(",
     "library": "var_list.r",
     "varRefreshCmd": "cat(var_dic_list()) "
    }
   },
   "types_to_exclude": [
    "module",
    "function",
    "builtin_function_or_method",
    "instance",
    "_Feature"
   ],
   "window_display": false
  }
 },
 "nbformat": 4,
 "nbformat_minor": 2
}
