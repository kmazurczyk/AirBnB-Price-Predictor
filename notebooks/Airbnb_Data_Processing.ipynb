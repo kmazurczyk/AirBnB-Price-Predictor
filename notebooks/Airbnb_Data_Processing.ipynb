{
 "cells": [
  {
   "cell_type": "code",
   "execution_count": 1,
   "metadata": {},
   "outputs": [],
   "source": [
    "import numpy as np\n",
    "import pandas as pd\n",
    "from datetime import date, datetime\n",
    "from matplotlib import pyplot as plt\n",
    "import seaborn as sns"
   ]
  },
  {
   "cell_type": "code",
   "execution_count": 2,
   "metadata": {},
   "outputs": [],
   "source": [
    "fileList = ['listings.csv', 'listings_20240805.csv', 'listings_20240705.csv','listings_20240604.csv',\n",
    "            'listings_20240503.csv','listings_20240406.csv','listings_20240307.csv','listings_20240206.csv',\n",
    "            'listings_20240105.csv','listings_20231204.csv','listings_20231101.csv','listings_20231001.csv']\n",
    "\n",
    "df = pd.concat((pd.read_csv(i) for i in fileList)).reset_index(drop = True)"
   ]
  },
  {
   "cell_type": "code",
   "execution_count": 3,
   "metadata": {},
   "outputs": [],
   "source": [
    "df.drop(columns=['listing_url', 'scrape_id', 'source', 'name',\n",
    "                 'description', 'neighborhood_overview', 'picture_url', 'host_id',\n",
    "                 'host_url', 'host_name', 'host_location', 'host_about',\n",
    "                 'host_thumbnail_url', 'host_picture_url', 'host_neighbourhood', \n",
    "                 'host_listings_count', 'host_total_listings_count', 'host_verifications',\n",
    "                 'host_has_profile_pic', 'host_identity_verified', 'neighbourhood',\n",
    "                 'calendar_updated','first_review','last_review','calendar_last_scraped'], inplace=True)"
   ]
  },
  {
   "cell_type": "markdown",
   "metadata": {},
   "source": [
    "Data Cleaning and Processing"
   ]
  },
  {
   "cell_type": "code",
   "execution_count": null,
   "metadata": {},
   "outputs": [],
   "source": [
    "df['host_response_rate'] = df['host_response_rate'].str.replace('%','').astype(float).apply(lambda x: x/100)\n",
    "df['host_acceptance_rate'] = df['host_acceptance_rate'].str.replace('%','').astype(float).apply(lambda x: x/100)"
   ]
  },
  {
   "cell_type": "code",
   "execution_count": 4,
   "metadata": {},
   "outputs": [],
   "source": [
    "df['price'] = df['price'].str.replace(r'\\$|,', '', regex=True).astype(float)"
   ]
  },
  {
   "cell_type": "code",
   "execution_count": 5,
   "metadata": {},
   "outputs": [],
   "source": [
    "df.loc[df['price'] == 0 ,'price'] = np.nan\n",
    "df['price'] = df.groupby(['neighbourhood_group_cleansed','room_type'])['price'].transform(lambda x: x.fillna(x.median()))"
   ]
  },
  {
   "cell_type": "code",
   "execution_count": 6,
   "metadata": {},
   "outputs": [],
   "source": [
    "df['bedrooms'] = df.groupby(['room_type'])['beds'].transform(lambda x: x.fillna(x.median()))"
   ]
  },
  {
   "cell_type": "code",
   "execution_count": 7,
   "metadata": {},
   "outputs": [],
   "source": [
    "# get the bathroom values from the bathroom_text feature\n",
    "df['bathrooms_text'] = df['bathrooms_text'].str.replace(r'\\s.*', '', regex=True).apply(lambda x: 0.5 if x in ('Half-bath', 'Shared','Private') else float(x)).astype(float)\n",
    "# fill the na in the bathroom feature with the value from the bathroom_text feature\n",
    "df['bathrooms_cleaned'] = df['bathrooms'].fillna(df['bathrooms_text'])\n",
    "df.drop(columns=['bathrooms_text','bathrooms'],inplace=True)"
   ]
  },
  {
   "cell_type": "code",
   "execution_count": 9,
   "metadata": {},
   "outputs": [],
   "source": [
    "values = {'host_is_superhost': 'f', 'host_has_profile_pic' :'f', 'host_identity_verified':'f', 'has_availability':'f','instant_bookable':'f',\n",
    "          'reviews_per_month': df['reviews_per_month'].median(), 'number_of_reviews':df['number_of_reviews'].median(), \n",
    "          'number_of_reviews_ltm':df['number_of_reviews_ltm'].median(), 'number_of_reviews_l30d':df['number_of_reviews_l30d'].median(), \n",
    "          'bedrooms':1, 'beds': df['beds'].median(), 'bathrooms_cleaned': df['bathrooms_cleaned'].median(),\n",
    "          'review_scores_rating':df['review_scores_rating'].median(), 'review_scores_accuracy': df['review_scores_accuracy'].median(),\n",
    "          'review_scores_cleanliness': df['review_scores_cleanliness'].median(), 'review_scores_checkin': df['review_scores_checkin'].median(),\n",
    "          'review_scores_communication': df['review_scores_communication'].median(), 'review_scores_location': df['review_scores_location'], \n",
    "          'review_scores_value': df['review_scores_value'].median(), 'host_response_rate': df['host_response_rate'].median(), \n",
    "          'host_acceptance_rate' :df['host_acceptance_rate'].median(),'host_response_time': df['host_response_time'].value_counts().index[0]}\n",
    "df.fillna(value=values, inplace=True)\n",
    "\n",
    "df['host_is_superhost'] = df['host_is_superhost'].map({'t': 1, 'f': 0}).astype(int)\n",
    "df['has_availability'] = df['has_availability'].map({'t': 1, 'f': 0}).astype(int)\n",
    "df['instant_bookable'] = df['instant_bookable'].map({'t': 1, 'f': 0}).astype(int)\n",
    "df['has_license'] = df['license'].fillna(-1).apply(lambda x: 0 if x == -1 else 1)"
   ]
  },
  {
   "cell_type": "code",
   "execution_count": null,
   "metadata": {},
   "outputs": [],
   "source": [
    "df = df.astype(\n",
    "    {\n",
    "        'neighbourhood_group_cleansed': 'category',\n",
    "        'room_type' : 'category',\n",
    "        'host_response_time' : 'category',\n",
    "        'neighbourhood_cleansed': 'category',\n",
    "        'property_type': 'category'\n",
    "    }\n",
    ")\n",
    "df['last_scraped'] = pd.to_datetime(df['last_scraped'])"
   ]
  },
  {
   "cell_type": "markdown",
   "metadata": {},
   "source": [
    "Feature Engineering"
   ]
  },
  {
   "cell_type": "code",
   "execution_count": 15,
   "metadata": {},
   "outputs": [],
   "source": [
    "# find length of time for host\n",
    "df['host_since'] = pd.to_datetime(df['host_since'])\n",
    "df['today'] = pd.to_datetime(date.today())\n",
    "df['host_length_years'] = (df['today'] - df['host_since']) / np.timedelta64(1, 'D')\n",
    "df['host_length_years'] = round((df['host_length_years'] *  0.0027379),2).astype(float)\n",
    "\n",
    "df.fillna(value={'host_length_years': df['host_length_years'].median()}, inplace=True)\n",
    "\n",
    "df.drop(columns=['today','host_since'], inplace = True)"
   ]
  },
  {
   "cell_type": "code",
   "execution_count": 17,
   "metadata": {},
   "outputs": [],
   "source": [
    "df['amenities'] = df['amenities'].str.replace('\"', '')\n",
    "df['amenities'] = df['amenities'].str.replace('[', '')\n",
    "df['amenities'] = df['amenities'].str.replace(']', '')\n",
    "df['amenities'] = df['amenities'].str.replace(r'\\\\u.*','', regex = True)\n",
    "df['amenities'] = df['amenities'].str.strip()\n",
    "df['parking_on_premises'] = df['amenities'].str.contains(r'.*parking on premises|Free driveway parking.*|PAID.*PARKING.*ON PREMISES|.*PARKING GARAGE ON PREMISES|Free residential garage on premises|Free carport on premises', \n",
    "                                                                         case=False, regex=True).astype(int)\n",
    "df['washer'] = df['amenities'].str.contains(r'WASHER|FREE WASHER|PAID WASHER', case=False, regex=True).astype(int)\n",
    "df['dryer'] = df['amenities'].str.contains(r'DRYER|FREE DRYER|PAID DRYER', case=False, regex=True).astype(int)\n",
    "df['AC'] = df['amenities'].str.contains(r'Central air conditioning|AIR CONDITIONING|Window AC unit|AC - split type ductless system', case=False, regex=True).astype(int)\n",
    "df['heating'] = df['amenities'].str.contains(r'HEATING|CENTRAL HEATING|Radiant heating|Heating - split type ductless system', case=False, regex=True).astype(int)\n",
    "df['wifi'] = df['amenities'].str.contains(r'WIFI|.*WIFI', case=False, regex=True).astype(int)\n",
    "df['TV'] = df['amenities'].str.contains(r'TV|TV\\s.*|.*HDTV.*', case=False, regex=True).astype(int)\n",
    "df['self_check_in'] = df['amenities'].str.contains('Self check-in').astype(int)\n",
    "df['gym'] = df['amenities'].str.contains(r'GYM|Shared gym in building|PRIVATE GYM IN BUILDING|Gym in building|Private gym|Shared gym', case=False, regex=True).astype(int)\n",
    "df['pets_allowed'] = df['amenities'].str.contains('Pets allowed').astype(int)\n",
    "df['kitchen'] = df['amenities'].str.contains(r'KITCHEN|KITCHENETTE', case=False, regex=True).astype(int)\n",
    "df['patio_balcony'] = df['amenities'].str.contains(r'.*PATIO OR BALCONY|Patio or balcony', case=False, regex=True).astype(int)\n",
    "df['backyard'] = df['amenities'].str.contains(r'.*BACKYARD.*', case=False, regex=True).astype(int)\n",
    "df['pool'] = df['amenities'].str.contains(r'Pool|Shared pool.*|Private pool|Shared indoor pool - available all year|Shared outdoor pool - available seasonally', case=False, regex=True).astype(int)\n",
    "df['luggage_dropoff_allowed'] = df['amenities'].str.contains('Luggage dropoff allowed').astype(int)\n",
    "df['dedicated_workspace'] = df['amenities'].str.contains('Dedicated workspace').astype(int)\n",
    "df['lock_on_bedroom_door'] = df['amenities'].str.contains('Lock on bedroom door').astype(int)"
   ]
  },
  {
   "cell_type": "code",
   "execution_count": null,
   "metadata": {},
   "outputs": [],
   "source": [
    "df = pd.get_dummies(df,columns=['room_type','neighbourhood_group_cleansed','host_response_time'],dtype=int)"
   ]
  },
  {
   "cell_type": "markdown",
   "metadata": {},
   "source": [
    "Correlation Analysis"
   ]
  },
  {
   "cell_type": "code",
   "execution_count": 20,
   "metadata": {},
   "outputs": [
    {
     "data": {
      "text/plain": [
       "price                                           0.558868\n",
       "accommodates                                    0.546141\n",
       "beds                                            0.425464\n",
       "bedrooms                                        0.425166\n",
       "neighbourhood_group_cleansed_Manhattan          0.349101\n",
       "longitude                                      -0.282884\n",
       "minimum_nights_sqrt                            -0.272586\n",
       "bathrooms_cleaned                               0.252338\n",
       "minimum_minimum_nights_sqrt                    -0.246253\n",
       "kitchen                                        -0.245276\n",
       "gym                                             0.222957\n",
       "self_check_in                                   0.212926\n",
       "calculated_host_listings_count_private_rooms   -0.197845\n",
       "neighbourhood_group_cleansed_Queens            -0.190435\n",
       "instant_bookable                                0.186727\n",
       "availability_90                                 0.182397\n",
       "availability_365                                0.179805\n",
       "calculated_host_listings_count_entire_homes     0.177175\n",
       "neighbourhood_group_cleansed_Brooklyn          -0.175780\n",
       "availability_60                                 0.174194\n",
       "dryer                                           0.166094\n",
       "availability_30                                 0.160364\n",
       "minimum_maximum_nights_log                     -0.157813\n",
       "review_scores_location                          0.148563\n",
       "review_scores_cleanliness                       0.147933\n",
       "pets_allowed                                    0.147666\n",
       "heating                                        -0.135817\n",
       "minimum_nights                                 -0.133513\n",
       "has_availability                                0.127833\n",
       "paid_parking_on_premises                        0.121296\n",
       "pool                                            0.115474\n",
       "minimum_minimum_nights                         -0.098994\n",
       "review_scores_rating                            0.097971\n",
       "TV                                              0.093146\n",
       "host_length_years                              -0.090917\n",
       "neighbourhood_group_cleansed_Bronx             -0.089510\n",
       "washer                                          0.086930\n",
       "patio_balcony                                   0.081380\n",
       "luggage_dropoff_allowed                         0.080270\n",
       "calculated_host_listings_count_shared_rooms    -0.075761\n",
       "number_of_reviews_l30d_sqrt                     0.075354\n",
       "number_of_reviews_ltm_sqrt                      0.071496\n",
       "latitude                                        0.063602\n",
       "review_scores_accuracy                          0.062671\n",
       "number_of_reviews_l30d                          0.058576\n",
       "reviews_per_month                               0.057360\n",
       "wifi                                           -0.057245\n",
       "number_of_reviews_ltm                           0.053610\n",
       "review_scores_communication                     0.049285\n",
       "host_is_superhost                               0.048618\n",
       "maximum_maximum_nights                          0.042287\n",
       "maximum_minimum_nights                          0.036223\n",
       "maximum_nights_avg_ntm                          0.033823\n",
       "neighbourhood_group_cleansed_Staten Island     -0.033585\n",
       "minimum_nights_avg_ntm                          0.031903\n",
       "review_scores_checkin                           0.028583\n",
       "maximum_nights_long                            -0.028342\n",
       "free_parking_on_premises                       -0.026868\n",
       "review_scores_value                             0.024130\n",
       "maximum_nights_avg_ntm_log                     -0.021206\n",
       "minimum_maximum_nights                          0.019026\n",
       "backyard                                        0.016792\n",
       "calculated_host_listings_count                 -0.016514\n",
       "number_of_reviews                               0.013318\n",
       "parking_off_premises                           -0.007367\n",
       "AC                                              0.003507\n",
       "maximum_maximum_nights_log                      0.002567\n",
       "maximum_nights                                 -0.000431\n",
       "Name: price_log, dtype: float64"
      ]
     },
     "execution_count": 20,
     "metadata": {},
     "output_type": "execute_result"
    }
   ],
   "source": [
    "pd.options.display.max_columns = None\n",
    "pd.options.display.max_rows = None\n",
    "\n",
    "corrs = df.corr(numeric_only=True)\n",
    "corrs.drop(columns=['latitude','longitude'],inplace=True)\n",
    "\n",
    "targetCor = corrs.drop('price_log')['price_log']\n",
    "\n",
    "targetCor.loc[targetCor.abs().sort_values(ascending= False).index]"
   ]
  },
  {
   "cell_type": "code",
   "execution_count": null,
   "metadata": {},
   "outputs": [],
   "source": [
    "df.drop(columns=[\n",
    "    'maximum_nights','calculated_host_listings_count','minimum_nights_avg_ntm',\n",
    "    'number_of_reviews','host_response_rate','minimum_maximum_nights',\n",
    "    'host_is_superhost','maximum_maximum_nights','review_scores_value',\n",
    "    'maximum_nights_avg_ntm','review_scores_checkin','number_of_reviews_ltm','review_scores_communication',\n",
    "    'host_length_years','review_scores_accuracy','reviews_per_month',\n",
    "    'number_of_reviews_l30d','maximum_minimum_nights','review_scores_rating','minimum_minimum_nights',\n",
    "    'has_availability','host_acceptance_rate','availability_30',\n",
    "    'availability_60','review_scores_cleanliness','availability_90',\n",
    "    'calculated_host_listings_count_shared_rooms', 'availability_365',\n",
    "    'beds','license','neighbourhood_cleansed','amenities','minimum_nights_sqrt',\n",
    "    'backyard','AC','dedicated_workspace','luggage_dropoff_allowed','parking_on_premises',\n",
    "    'patio_balcony','TV','pool','washer','heating','dryer',\n",
    "    'host_response_time_within a day','host_response_time_a few days or more','host_response_time_within an hour',\n",
    "    'host_response_time_within a few hours', 'review_scores_location'\n",
    "],inplace=True)"
   ]
  },
  {
   "cell_type": "code",
   "execution_count": null,
   "metadata": {},
   "outputs": [],
   "source": [
    "df.to_csv('Airbnb_listings_cleaned.csv',header=True)"
   ]
  }
 ],
 "metadata": {
  "kernelspec": {
   "display_name": "tools1_env",
   "language": "python",
   "name": "python3"
  },
  "language_info": {
   "codemirror_mode": {
    "name": "ipython",
    "version": 3
   },
   "file_extension": ".py",
   "mimetype": "text/x-python",
   "name": "python",
   "nbconvert_exporter": "python",
   "pygments_lexer": "ipython3",
   "version": "3.12.1"
  }
 },
 "nbformat": 4,
 "nbformat_minor": 2
}
