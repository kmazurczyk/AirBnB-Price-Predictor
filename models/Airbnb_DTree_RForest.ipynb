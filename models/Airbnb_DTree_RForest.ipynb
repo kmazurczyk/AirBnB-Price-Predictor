{
 "cells": [
  {
   "cell_type": "code",
   "execution_count": 134,
   "metadata": {},
   "outputs": [],
   "source": [
    "import pandas as pd\n",
    "import numpy as np\n",
    "import matplotlib.pyplot as plt\n",
    "import seaborn as sns\n",
    "from sklearn.model_selection import train_test_split, cross_validate, RandomizedSearchCV\n",
    "from sklearn.ensemble import RandomForestRegressor\n",
    "from sklearn.metrics import root_mean_squared_error, r2_score\n",
    "from sklearn.preprocessing import OneHotEncoder\n",
    "from sklearn.pipeline import Pipeline\n",
    "from sklearn.compose import ColumnTransformer\n",
    "from sklearn.inspection import permutation_importance\n",
    "from sklearn.tree import DecisionTreeRegressor\n",
    "\n",
    "# Load the dataset\n",
    "df = pd.read_csv('airbnb_sample_landmarks_zipcodes.csv')"
   ]
  },
  {
   "cell_type": "code",
   "execution_count": 9,
   "metadata": {},
   "outputs": [
    {
     "data": {
      "text/plain": [
       "(25000, 92)"
      ]
     },
     "execution_count": 9,
     "metadata": {},
     "output_type": "execute_result"
    }
   ],
   "source": [
    "df.shape"
   ]
  },
  {
   "cell_type": "code",
   "execution_count": 85,
   "metadata": {},
   "outputs": [
    {
     "data": {
      "text/plain": [
       "id                              0\n",
       "last_scraped                    0\n",
       "latitude                        0\n",
       "longitude                       0\n",
       "accommodates                    0\n",
       "                             ... \n",
       "num_landmarks_dist_500m         0\n",
       "closest_landmark                0\n",
       "mean_log_dist_landmarks         0\n",
       "median_log_dist_landmarks       0\n",
       "zip_code                     2212\n",
       "Length: 92, dtype: int64"
      ]
     },
     "execution_count": 85,
     "metadata": {},
     "output_type": "execute_result"
    }
   ],
   "source": [
    "# check for missing values\n",
    "df.isna().sum()"
   ]
  },
  {
   "cell_type": "code",
   "execution_count": 135,
   "metadata": {},
   "outputs": [],
   "source": [
    "# drop missing values\n",
    "df.dropna(inplace=True)"
   ]
  },
  {
   "cell_type": "code",
   "execution_count": 136,
   "metadata": {},
   "outputs": [],
   "source": [
    "# remove all transformed variables from the dataframe\n",
    "df = df.loc[:,~df.columns.str.contains('log')]"
   ]
  },
  {
   "cell_type": "code",
   "execution_count": 137,
   "metadata": {},
   "outputs": [],
   "source": [
    "#drop unneeded columns\n",
    "df = df.drop(columns=['id', 'last_scraped', 'latitude', 'longitude', 'borough'])"
   ]
  },
  {
   "cell_type": "code",
   "execution_count": 138,
   "metadata": {},
   "outputs": [],
   "source": [
    "# convert to category datatype\n",
    "df['closest_landmark'] = df['closest_landmark'].astype('category')\n",
    "df['zip_code'] = df['zip_code'].astype('category')"
   ]
  },
  {
   "cell_type": "code",
   "execution_count": 139,
   "metadata": {},
   "outputs": [],
   "source": [
    "# get dummies for the closet_landmark\n",
    "df = pd.get_dummies(df)"
   ]
  },
  {
   "cell_type": "code",
   "execution_count": 140,
   "metadata": {},
   "outputs": [],
   "source": [
    "# train test split\n",
    "xTrain, xTest, yTrain, yTest = train_test_split(df.drop(columns=['price']), df.price, test_size=0.2, random_state=42)"
   ]
  },
  {
   "cell_type": "markdown",
   "metadata": {},
   "source": [
    "#### Random Forest Model"
   ]
  },
  {
   "cell_type": "code",
   "execution_count": 141,
   "metadata": {},
   "outputs": [],
   "source": [
    "rForest = RandomForestRegressor(random_state=42)\n",
    "rForest_cv = cross_validate(rForest,xTrain,yTrain, cv = 5, scoring = ['neg_root_mean_squared_error','r2'])"
   ]
  },
  {
   "cell_type": "code",
   "execution_count": 142,
   "metadata": {},
   "outputs": [
    {
     "name": "stdout",
     "output_type": "stream",
     "text": [
      "------Random Forest------\n",
      "Mean R-Squared: 0.26158165122022925\n",
      "Mean RSME: 340.9826379449663\n"
     ]
    }
   ],
   "source": [
    "print('------Random Forest------')\n",
    "print(f'Mean R-Squared: {rForest_cv['test_r2'].mean()}')\n",
    "print(f'Mean RSME: {-rForest_cv['test_neg_root_mean_squared_error'].mean()}')"
   ]
  },
  {
   "cell_type": "markdown",
   "metadata": {},
   "source": [
    "#### Decision Tree Model"
   ]
  },
  {
   "cell_type": "code",
   "execution_count": 143,
   "metadata": {},
   "outputs": [],
   "source": [
    "decisionTree = DecisionTreeRegressor(random_state=5280)\n",
    "decisionTree_cv = cross_validate(decisionTree,xTrain,yTrain, cv = 5, scoring = ['neg_root_mean_squared_error','r2'])"
   ]
  },
  {
   "cell_type": "code",
   "execution_count": 144,
   "metadata": {},
   "outputs": [
    {
     "name": "stdout",
     "output_type": "stream",
     "text": [
      "------Decision Tree------\n",
      "Mean R-Squared: -2.0304076661673434\n",
      "Mean RSME: 569.5276251842519\n"
     ]
    }
   ],
   "source": [
    "print('------Decision Tree------')\n",
    "print(f'Mean R-Squared: {decisionTree_cv['test_r2'].mean()}')\n",
    "print(f'Mean RSME: {-decisionTree_cv['test_neg_root_mean_squared_error'].mean()}')"
   ]
  }
 ],
 "metadata": {
  "kernelspec": {
   "display_name": "airbnb_env",
   "language": "python",
   "name": "python3"
  },
  "language_info": {
   "codemirror_mode": {
    "name": "ipython",
    "version": 3
   },
   "file_extension": ".py",
   "mimetype": "text/x-python",
   "name": "python",
   "nbconvert_exporter": "python",
   "pygments_lexer": "ipython3",
   "version": "3.12.1"
  }
 },
 "nbformat": 4,
 "nbformat_minor": 2
}
